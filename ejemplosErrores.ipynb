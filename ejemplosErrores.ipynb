{
  "nbformat": 4,
  "nbformat_minor": 0,
  "metadata": {
    "colab": {
      "provenance": [],
      "authorship_tag": "ABX9TyMi9H4NcUGTcZq149AyrS8s",
      "include_colab_link": true
    },
    "kernelspec": {
      "name": "python3",
      "display_name": "Python 3"
    },
    "language_info": {
      "name": "python"
    }
  },
  "cells": [
    {
      "cell_type": "markdown",
      "metadata": {
        "id": "view-in-github",
        "colab_type": "text"
      },
      "source": [
        "<a href=\"https://colab.research.google.com/github/GiovannaCabRuiz/Unidad3/blob/main/ejemplosErrores.ipynb\" target=\"_parent\"><img src=\"https://colab.research.google.com/assets/colab-badge.svg\" alt=\"Open In Colab\"/></a>"
      ]
    },
    {
      "cell_type": "markdown",
      "source": [
        "practica: hacer un ejemplo de cada uno de los errores"
      ],
      "metadata": {
        "id": "p5TntB1nAD0y"
      }
    },
    {
      "cell_type": "markdown",
      "source": [
        "1. AssetionError"
      ],
      "metadata": {
        "id": "OPXZPvyGSrME"
      }
    },
    {
      "cell_type": "code",
      "execution_count": null,
      "metadata": {
        "id": "ajarVG4N7f1x",
        "colab": {
          "base_uri": "https://localhost:8080/",
          "height": 159
        },
        "outputId": "5783de0c-a473-4698-e53e-f1708442b559"
      },
      "outputs": [
        {
          "output_type": "error",
          "ename": "AssertionError",
          "evalue": "Esto falla porque 1 no es igual a 2",
          "traceback": [
            "\u001b[0;31m---------------------------------------------------------------------------\u001b[0m",
            "\u001b[0;31mAssertionError\u001b[0m                            Traceback (most recent call last)",
            "\u001b[0;32m<ipython-input-3-fe3f8102d731>\u001b[0m in \u001b[0;36m<cell line: 2>\u001b[0;34m()\u001b[0m\n\u001b[1;32m      1\u001b[0m \u001b[0;31m# AssertionError\u001b[0m\u001b[0;34m\u001b[0m\u001b[0;34m\u001b[0m\u001b[0m\n\u001b[0;32m----> 2\u001b[0;31m \u001b[0;32massert\u001b[0m \u001b[0;36m1\u001b[0m \u001b[0;34m==\u001b[0m \u001b[0;36m2\u001b[0m\u001b[0;34m,\u001b[0m \u001b[0;34m\"Esto falla porque 1 no es igual a 2\"\u001b[0m\u001b[0;34m\u001b[0m\u001b[0;34m\u001b[0m\u001b[0m\n\u001b[0m",
            "\u001b[0;31mAssertionError\u001b[0m: Esto falla porque 1 no es igual a 2"
          ]
        }
      ],
      "source": [
        "# AssertionError\n",
        "assert 1 == 2, \"Esto falla porque 1 no es igual a 2\"\n"
      ]
    },
    {
      "cell_type": "markdown",
      "source": [
        "2. EOFError"
      ],
      "metadata": {
        "id": "7Bdo9BYXS81A"
      }
    },
    {
      "cell_type": "code",
      "source": [
        "# EOFError\n",
        "input(\"Introduce algo: \")  # Si se ejecuta sin entrada de datos, lanzará EOFError\n",
        "\n"
      ],
      "metadata": {
        "colab": {
          "base_uri": "https://localhost:8080/",
          "height": 53
        },
        "id": "5Y9BxrrnTGlE",
        "outputId": "9ffcccf3-5066-463f-eb86-823ac2b2a6ab"
      },
      "execution_count": null,
      "outputs": [
        {
          "name": "stdout",
          "output_type": "stream",
          "text": [
            "Introduce algo: y\n"
          ]
        },
        {
          "output_type": "execute_result",
          "data": {
            "text/plain": [
              "'y'"
            ],
            "application/vnd.google.colaboratory.intrinsic+json": {
              "type": "string"
            }
          },
          "metadata": {},
          "execution_count": 4
        }
      ]
    },
    {
      "cell_type": "markdown",
      "source": [
        "3. TabError"
      ],
      "metadata": {
        "id": "9nqviFD5TIqA"
      }
    },
    {
      "cell_type": "code",
      "source": [
        "# TabError\n",
        "def ejemplo_tab_error():\n",
        "    print(\"Línea con espacios\")\n",
        "\tprint(\"Línea con tabulaciones\")  # Esta línea tiene un tab, lo que causa TabError\n"
      ],
      "metadata": {
        "colab": {
          "base_uri": "https://localhost:8080/",
          "height": 106
        },
        "id": "Pwzii-HGTM2S",
        "outputId": "5369478a-512b-4d17-a1c8-84b6cc8dee03"
      },
      "execution_count": null,
      "outputs": [
        {
          "output_type": "error",
          "ename": "TabError",
          "evalue": "inconsistent use of tabs and spaces in indentation (<ipython-input-5-0e5ba30f4faa>, line 4)",
          "traceback": [
            "\u001b[0;36m  File \u001b[0;32m\"<ipython-input-5-0e5ba30f4faa>\"\u001b[0;36m, line \u001b[0;32m4\u001b[0m\n\u001b[0;31m    print(\"Línea con tabulaciones\")  # Esta línea tiene un tab, lo que causa TabError\u001b[0m\n\u001b[0m    ^\u001b[0m\n\u001b[0;31mTabError\u001b[0m\u001b[0;31m:\u001b[0m inconsistent use of tabs and spaces in indentation\n"
          ]
        }
      ]
    },
    {
      "cell_type": "markdown",
      "source": [
        "4. ImportError"
      ],
      "metadata": {
        "id": "iJDredQxTO7Q"
      }
    },
    {
      "cell_type": "code",
      "source": [
        "# ImportError\n",
        "import nonexistent_module  # Intentar importar un módulo inexistente\n"
      ],
      "metadata": {
        "id": "gQdn73UNTTqd"
      },
      "execution_count": null,
      "outputs": []
    },
    {
      "cell_type": "markdown",
      "source": [
        "5. IndexError"
      ],
      "metadata": {
        "id": "hPS4TtMYTWjS"
      }
    },
    {
      "cell_type": "code",
      "source": [
        "# IndexError\n",
        "lista = [1, 2, 3]\n",
        "print(lista[5])  # Índice 5 no existe en una lista de longitud 3\n"
      ],
      "metadata": {
        "id": "gLkDi3cNThEM"
      },
      "execution_count": null,
      "outputs": []
    },
    {
      "cell_type": "markdown",
      "source": [
        "6. KeyboardInterrupt"
      ],
      "metadata": {
        "id": "9nBJ-ARJTjAy"
      }
    },
    {
      "cell_type": "code",
      "source": [
        "# KeyboardInterrupt\n",
        "while True:\n",
        "    pass  # Presiona Ctrl+C para interrumpir y lanzar KeyboardInterrupt\n"
      ],
      "metadata": {
        "id": "LnDJOjX2TnuW"
      },
      "execution_count": null,
      "outputs": []
    },
    {
      "cell_type": "markdown",
      "source": [
        "7. RuntimeError"
      ],
      "metadata": {
        "id": "wJBNGsOaTppQ"
      }
    },
    {
      "cell_type": "code",
      "source": [
        "# RuntimeError\n",
        "raise RuntimeError(\"Este es un RuntimeError personalizado\")\n"
      ],
      "metadata": {
        "id": "5oZ3GKA3Ts6w"
      },
      "execution_count": null,
      "outputs": []
    },
    {
      "cell_type": "markdown",
      "source": [
        "8. NameError"
      ],
      "metadata": {
        "id": "_Gd6jxc7Tu8j"
      }
    },
    {
      "cell_type": "code",
      "source": [
        "# NameError\n",
        "print(una_variable_no_definida)  # 'una_variable_no_definida' no ha sido definida\n"
      ],
      "metadata": {
        "id": "QMpItBBWTx9N"
      },
      "execution_count": null,
      "outputs": []
    },
    {
      "cell_type": "markdown",
      "source": [
        "9. MemoryError"
      ],
      "metadata": {
        "id": "ErKVj5wPT0Gi"
      }
    },
    {
      "cell_type": "code",
      "source": [
        "# MemoryError\n",
        "# Esto puede consumir mucha memoria y hacer que el sistema falle.\n",
        "# lista_grande = [1] * (10**10)\n"
      ],
      "metadata": {
        "id": "X1DfzdtyT3mm"
      },
      "execution_count": null,
      "outputs": []
    },
    {
      "cell_type": "markdown",
      "source": [
        "10. ValueError"
      ],
      "metadata": {
        "id": "5tTSPvx7UAPW"
      }
    },
    {
      "cell_type": "code",
      "source": [
        "# ValueError\n",
        "int(\"texto\")  # No se puede convertir \"texto\" a un entero\n"
      ],
      "metadata": {
        "id": "hOwwmMyjUBjP"
      },
      "execution_count": null,
      "outputs": []
    },
    {
      "cell_type": "markdown",
      "source": [
        "11. ZeroDivisionError"
      ],
      "metadata": {
        "id": "cD5mIOHmUD7c"
      }
    },
    {
      "cell_type": "code",
      "source": [
        "# ZeroDivisionError\n",
        "print(1 / 0)  # División por cero\n"
      ],
      "metadata": {
        "id": "lK_7rEjwUHii"
      },
      "execution_count": null,
      "outputs": []
    },
    {
      "cell_type": "markdown",
      "source": [
        "12. SyntaxError"
      ],
      "metadata": {
        "id": "kBv2kF2iUJaX"
      }
    },
    {
      "cell_type": "code",
      "source": [
        "# SyntaxError\n",
        "# print \"Falta paréntesis\"  # Falta de paréntesis\n"
      ],
      "metadata": {
        "id": "HUUozqpcUM7n"
      },
      "execution_count": null,
      "outputs": []
    },
    {
      "cell_type": "markdown",
      "source": [
        "13. IndentationError"
      ],
      "metadata": {
        "id": "9HRV3S-vUPEo"
      }
    },
    {
      "cell_type": "code",
      "source": [
        "# IndentationError\n",
        "def ejemplo_indentacion_error():\n",
        "print(\"No está correctamente indentado\")  # No está correctamente indentado\n"
      ],
      "metadata": {
        "id": "2O97kHipUTWZ"
      },
      "execution_count": null,
      "outputs": []
    },
    {
      "cell_type": "markdown",
      "source": [
        "14. SystemError"
      ],
      "metadata": {
        "id": "_LEZ4aoUUUmN"
      }
    },
    {
      "cell_type": "code",
      "source": [
        "# SystemError\n",
        "raise SystemError(\"Ejemplo de SystemError\")\n"
      ],
      "metadata": {
        "id": "swUXYRssUa8S"
      },
      "execution_count": null,
      "outputs": []
    },
    {
      "cell_type": "markdown",
      "source": [
        "15. AttributeError"
      ],
      "metadata": {
        "id": "zPEzthiYU34O"
      }
    },
    {
      "cell_type": "code",
      "source": [
        "# AttributeError\n",
        "texto = \"Hola, mundo\"\n",
        "texto.append(\"!\")  # Las cadenas de texto (str) no tienen el método 'append'\n"
      ],
      "metadata": {
        "id": "_uqwzpLwU7SN"
      },
      "execution_count": null,
      "outputs": []
    }
  ]
}