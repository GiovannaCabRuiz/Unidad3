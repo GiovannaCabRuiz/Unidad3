{
  "nbformat": 4,
  "nbformat_minor": 0,
  "metadata": {
    "colab": {
      "provenance": [],
      "authorship_tag": "ABX9TyMoMqHrSdkcEUgXvLRLcsiY",
      "include_colab_link": true
    },
    "kernelspec": {
      "name": "python3",
      "display_name": "Python 3"
    },
    "language_info": {
      "name": "python"
    }
  },
  "cells": [
    {
      "cell_type": "markdown",
      "metadata": {
        "id": "view-in-github",
        "colab_type": "text"
      },
      "source": [
        "<a href=\"https://colab.research.google.com/github/GiovannaCabRuiz/Unidad3/blob/main/unidadTres.ipynb\" target=\"_parent\"><img src=\"https://colab.research.google.com/assets/colab-badge.svg\" alt=\"Open In Colab\"/></a>"
      ]
    },
    {
      "cell_type": "markdown",
      "source": [
        "TAREA: Cómo funcionan las redes neuronales,\n",
        "PERCEPTRON, Y CONCEPTO DE MARCHING LEARNIG,\n",
        "BASES DE DATOS VECTORIALES\n"
      ],
      "metadata": {
        "id": "6VKhzxhO5-LA"
      }
    },
    {
      "cell_type": "markdown",
      "source": [
        "vector de 5 posiciones y matriz\n",
        "el primer arreglo se llamara codigo: donde iran claves ya capturadas, cada codigo correnpondra en cada casilla\n",
        "el segundo arreglo sera una matriz de 5 por 4 que se llamara produsctos: donde cada columna tendra el nombre de: nombre, precio de producto, porcentaje de ganancia, existencia\n",
        "el tercer arreglo sera una matriz de 5 por 2 que se llamara ventas: donde cada columna tendra el nombre de costos de venta\n",
        "\n",
        "producto y codigo se capturan, solo se pide la venta\n"
      ],
      "metadata": {
        "id": "SXZAKQIo6mb1"
      }
    },
    {
      "cell_type": "code",
      "source": [
        "class Producto:\n",
        "    def __init__(self, codigo, nombre, precio, porcentajeganancia, existencia):\n",
        "        self.codigo = codigo\n",
        "        self.nombre = nombre\n",
        "        self.precio = precio\n",
        "        self.porcentajeganancia = porcentajeganancia\n",
        "        self.existencia = existencia\n",
        "\n",
        "    def vender(self, cantidad):\n",
        "        if cantidad > self.existencia:\n",
        "            print(\"No hay suficiente existencia. Solo puedes vender \" + str(self.existencia) + \" unidades.\")\n",
        "            cantidad = self.existencia\n",
        "        self.existencia -= cantidad\n",
        "        return cantidad * self.precio\n",
        "\n",
        "\n",
        "class Venta:\n",
        "    def __init__(self, producto, cantidad, costo_total):\n",
        "        self.producto = producto\n",
        "        self.cantidad = cantidad\n",
        "        self.costo_total = costo_total\n",
        "\n",
        "\n",
        "class SistemaVentas:\n",
        "    def __init__(self):\n",
        "        self.productos = [\n",
        "            Producto(\"XH01\", \"Leche\", 20.0, 15, 30),\n",
        "            Producto(\"B035\", \"Arroz\", 8.0, 5, 10),\n",
        "            Producto(\"A053\", \"Maruchan\", 40.0, 15, 50),\n",
        "            Producto(\"YV04\", \"Pan\", 10.0, 10, 20),\n",
        "            Producto(\"A0H5\", \"Sopa\", 25.0, 30, 15)\n",
        "        ]\n",
        "        self.ventas = []\n",
        "\n",
        "    def mostrarproductos(self):\n",
        "        print(\"\\nInventario de Productos:\")\n",
        "        print(\"Código     Producto     Precio   % Ganancia  Existencia\")\n",
        "        for p in self.productos:\n",
        "            print(p.codigo.ljust(10) + p.nombre.ljust(15) + str(p.precio).ljust(10) +\n",
        "                  str(p.porcentajeganancia).ljust(12) + str(p.existencia).ljust(10))\n",
        "\n",
        "    def registrarventa(self):\n",
        "        print(\"\\nRegistro de Ventas:\")\n",
        "        for producto in self.productos:\n",
        "            print(\"Producto: \" + producto.nombre + \" (Existencia: \" + str(producto.existencia) + \")\")\n",
        "            cantidad = int(input(\"Cantidad vendida del producto \" + producto.nombre + \": \"))\n",
        "            costo_total = producto.vender(cantidad)\n",
        "            self.ventas.append(Venta(producto, cantidad, costo_total))\n",
        "\n",
        "    def mostrarventas(self):\n",
        "        print(\"\\nResumen de Ventas:\")\n",
        "        print(\"Producto        Costo Venta    Cantidad Vendida\")\n",
        "        for venta in self.ventas:\n",
        "            print(venta.producto.nombre.ljust(15) + str(venta.costo_total).ljust(15) + str(venta.cantidad).ljust(15))\n",
        "\n",
        "\n",
        "sistema = SistemaVentas()\n",
        "sistema.mostrarproductos()\n",
        "sistema.registrarventa()\n",
        "sistema.mostrarventas()\n"
      ],
      "metadata": {
        "colab": {
          "base_uri": "https://localhost:8080/"
        },
        "id": "N9JpW_mUAcIF",
        "outputId": "41931b47-b807-4bcc-92e1-7e93b2047fd2"
      },
      "execution_count": null,
      "outputs": [
        {
          "output_type": "stream",
          "name": "stdout",
          "text": [
            "\n",
            "Inventario de Productos:\n",
            "Código     Producto     Precio   % Ganancia  Existencia\n",
            "XH01      Leche          20.0      15          30        \n",
            "B035      Arroz          8.0       5           10        \n",
            "A053      Maruchan       40.0      15          50        \n",
            "YV04      Pan            10.0      10          20        \n",
            "A0H5      Sopa           25.0      30          15        \n",
            "\n",
            "Registro de Ventas:\n",
            "Producto: Leche (Existencia: 30)\n",
            "Cantidad vendida del producto Leche: 5\n",
            "Producto: Arroz (Existencia: 10)\n",
            "Cantidad vendida del producto Arroz: 10\n",
            "Producto: Maruchan (Existencia: 50)\n",
            "Cantidad vendida del producto Maruchan: 25\n",
            "Producto: Pan (Existencia: 20)\n",
            "Cantidad vendida del producto Pan: 10\n",
            "Producto: Sopa (Existencia: 15)\n",
            "Cantidad vendida del producto Sopa: 5\n",
            "\n",
            "Resumen de5 Ventas:\n",
            "Producto        Costo Venta    Cantidad Vendida\n",
            "Leche          100.0          5              \n",
            "Arroz          80.0           10             \n",
            "Maruchan       1000.0         25             \n",
            "Pan            100.0          10             \n",
            "Sopa           125.0          5              \n"
          ]
        }
      ]
    }
  ]
}